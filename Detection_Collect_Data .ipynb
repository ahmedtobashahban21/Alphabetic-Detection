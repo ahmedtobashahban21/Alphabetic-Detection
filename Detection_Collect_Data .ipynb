{
 "cells": [
  {
   "cell_type": "code",
   "execution_count": 1,
   "id": "2d649bad",
   "metadata": {},
   "outputs": [],
   "source": [
    "import cv2\n",
    "import os "
   ]
  },
  {
   "cell_type": "code",
   "execution_count": 2,
   "id": "a2a02b37",
   "metadata": {},
   "outputs": [
    {
     "name": "stdout",
     "output_type": "stream",
     "text": [
      "Collect data for class 0\n",
      "Collect data for class 1\n",
      "Collect data for class 2\n",
      "Collect data for class 3\n",
      "Collect data for class 4\n",
      "Collect data for class 5\n",
      "Collect data for class 6\n",
      "Collect data for class 7\n",
      "Collect data for class 8\n",
      "Collect data for class 9\n",
      "Collect data for class 10\n",
      "Collect data for class 11\n",
      "Collect data for class 12\n",
      "Collect data for class 13\n",
      "Collect data for class 14\n",
      "Collect data for class 15\n",
      "Collect data for class 16\n",
      "Collect data for class 17\n",
      "Collect data for class 18\n",
      "Collect data for class 19\n",
      "Collect data for class 20\n",
      "Collect data for class 21\n",
      "Collect data for class 22\n",
      "Collect data for class 23\n",
      "Collect data for class 24\n",
      "Collect data for class 25\n",
      "Collect data for class 26\n",
      "Collect data for class 27\n"
     ]
    }
   ],
   "source": [
    "Data_dir = r'E:\\internships\\Arabice_Detection\\Data'\n",
    "\n",
    "number_classes = 28   \n",
    "data_set_size  = 200\n",
    "\n",
    "cap = cv2.VideoCapture(0)\n",
    "\n",
    "for i in range(number_classes):\n",
    "    if not os.path.exists(os.path.join(Data_dir ,str(i))):\n",
    "        os.makedirs(os.path.join(Data_dir , str(i)))\n",
    "    print(f'Collect data for class {i}')\n",
    "    \n",
    "    while True:\n",
    "        ret , frame = cap.read()\n",
    "        cv2.putText(frame, 'Ready? Press \"Q\" ! :)', (100, 50), cv2.FONT_HERSHEY_SIMPLEX, 1.3, (0, 255, 0), 3, cv2.LINE_AA)\n",
    "        cv2.imshow('frame', frame)\n",
    "        if cv2.waitKey(25) == ord('q'):\n",
    "            break\n",
    "    counter = 0\n",
    "    while counter < data_set_size :\n",
    "        ret , frame = cap.read()\n",
    "        cv2.imshow('fram' , frame)\n",
    "        cv2.waitKey(25)\n",
    "        cv2.imwrite(os.path.join(Data_dir , str(i) , f'{counter}.jpg') , frame)\n",
    "        \n",
    "        counter+=1\n",
    "        \n",
    "\n",
    "        \n",
    "        \n",
    "cap.release()\n",
    "cv2.destroyAllWindows()\n",
    "    "
   ]
  },
  {
   "cell_type": "code",
   "execution_count": 3,
   "id": "db748839",
   "metadata": {},
   "outputs": [],
   "source": [
    " # Hello - Goodbye - Please  "
   ]
  },
  {
   "cell_type": "code",
   "execution_count": null,
   "id": "355aceba",
   "metadata": {},
   "outputs": [],
   "source": []
  },
  {
   "cell_type": "code",
   "execution_count": null,
   "id": "218aff58",
   "metadata": {},
   "outputs": [],
   "source": []
  },
  {
   "cell_type": "code",
   "execution_count": null,
   "id": "3d7dae49",
   "metadata": {},
   "outputs": [],
   "source": []
  },
  {
   "cell_type": "code",
   "execution_count": null,
   "id": "a43cc2b8",
   "metadata": {},
   "outputs": [],
   "source": []
  },
  {
   "cell_type": "code",
   "execution_count": null,
   "id": "77335824",
   "metadata": {},
   "outputs": [],
   "source": []
  }
 ],
 "metadata": {
  "kernelspec": {
   "display_name": "Python 3 (ipykernel)",
   "language": "python",
   "name": "python3"
  },
  "language_info": {
   "codemirror_mode": {
    "name": "ipython",
    "version": 3
   },
   "file_extension": ".py",
   "mimetype": "text/x-python",
   "name": "python",
   "nbconvert_exporter": "python",
   "pygments_lexer": "ipython3",
   "version": "3.10.9"
  }
 },
 "nbformat": 4,
 "nbformat_minor": 5
}
