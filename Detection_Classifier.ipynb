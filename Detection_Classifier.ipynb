{
 "cells": [
  {
   "cell_type": "code",
   "execution_count": 1,
   "id": "69905fa7",
   "metadata": {},
   "outputs": [],
   "source": [
    "import pickle\n",
    "\n",
    "from sklearn.ensemble import RandomForestClassifier\n",
    "from sklearn.model_selection import train_test_split\n",
    "from sklearn.metrics import accuracy_score\n",
    "import numpy as np"
   ]
  },
  {
   "cell_type": "code",
   "execution_count": 2,
   "id": "d5ea487b",
   "metadata": {},
   "outputs": [],
   "source": [
    "data_dict = pickle.load(open(r'E:\\internships\\Arabice_Detection\\Data_processing\\data.pickle', 'rb'))"
   ]
  },
  {
   "cell_type": "code",
   "execution_count": 3,
   "id": "ff82c4c4",
   "metadata": {},
   "outputs": [
    {
     "data": {
      "text/plain": [
       "'0'"
      ]
     },
     "execution_count": 3,
     "metadata": {},
     "output_type": "execute_result"
    }
   ],
   "source": [
    "data_dict['labels'][10]"
   ]
  },
  {
   "cell_type": "code",
   "execution_count": 4,
   "id": "0c43e892",
   "metadata": {},
   "outputs": [
    {
     "data": {
      "text/plain": [
       "[0.20377641916275024,\n",
       " 0.3830253779888153,\n",
       " 0.17694389820098877,\n",
       " 0.28278663754463196,\n",
       " 0.12005335092544556,\n",
       " 0.16838952898979187,\n",
       " 0.08450859785079956,\n",
       " 0.07743468880653381,\n",
       " 0.0959089994430542,\n",
       " 0.0,\n",
       " 0.13356715440750122,\n",
       " 0.11938384175300598,\n",
       " 0.0056174397468566895,\n",
       " 0.14644774794578552,\n",
       " 0.022551894187927246,\n",
       " 0.19377401471138,\n",
       " 0.05874335765838623,\n",
       " 0.19195017218589783,\n",
       " 0.13619613647460938,\n",
       " 0.1909080445766449,\n",
       " 0.0,\n",
       " 0.2216368019580841,\n",
       " 0.0286371111869812,\n",
       " 0.2541489899158478,\n",
       " 0.06766289472579956,\n",
       " 0.2492331564426422,\n",
       " 0.13182300329208374,\n",
       " 0.26982614398002625,\n",
       " 0.012065112590789795,\n",
       " 0.29539212584495544,\n",
       " 0.042919039726257324,\n",
       " 0.3198693096637726,\n",
       " 0.08066415786743164,\n",
       " 0.3127780854701996,\n",
       " 0.12459182739257812,\n",
       " 0.34910503029823303,\n",
       " 0.03103458881378174,\n",
       " 0.36348435282707214,\n",
       " 0.05858755111694336,\n",
       " 0.37666425108909607,\n",
       " 0.09556567668914795,\n",
       " 0.36922237277030945]"
      ]
     },
     "execution_count": 4,
     "metadata": {},
     "output_type": "execute_result"
    }
   ],
   "source": [
    "data_dict['data'][10][:]"
   ]
  },
  {
   "cell_type": "code",
   "execution_count": 5,
   "id": "78eb7243",
   "metadata": {},
   "outputs": [
    {
     "name": "stdout",
     "output_type": "stream",
     "text": [
      "5579\n",
      "5579\n"
     ]
    }
   ],
   "source": [
    "print(len(data_dict['data']))\n",
    "print(len(data_dict['labels']))"
   ]
  },
  {
   "cell_type": "code",
   "execution_count": 6,
   "id": "e3461a3b",
   "metadata": {},
   "outputs": [
    {
     "name": "stdout",
     "output_type": "stream",
     "text": [
      "{42, 84}\n"
     ]
    }
   ],
   "source": [
    "collections  = []\n",
    "for listed in data_dict['data']:\n",
    "    collections.append(len(listed))\n",
    "print(set(collections))\n"
   ]
  },
  {
   "cell_type": "code",
   "execution_count": 7,
   "id": "391ae2b7",
   "metadata": {},
   "outputs": [],
   "source": [
    "new_data = []\n",
    "new_labels=[]\n",
    "\n",
    "for i , listed in enumerate(data_dict['data']):\n",
    "    lenth = len(listed)\n",
    "    if lenth == 42:\n",
    "        new_data.append(listed)\n",
    "        new_labels.append(data_dict['labels'][i])"
   ]
  },
  {
   "cell_type": "code",
   "execution_count": 8,
   "id": "ef6b6e57",
   "metadata": {},
   "outputs": [
    {
     "name": "stdout",
     "output_type": "stream",
     "text": [
      "5573\n",
      "5573\n"
     ]
    }
   ],
   "source": [
    "print(len(new_data))\n",
    "print(len(new_labels))"
   ]
  },
  {
   "cell_type": "code",
   "execution_count": 9,
   "id": "d8ebd251",
   "metadata": {},
   "outputs": [],
   "source": [
    "data  = np.array(new_data  ,dtype=object)\n",
    "labels= np.array(new_labels, dtype=object)"
   ]
  },
  {
   "cell_type": "code",
   "execution_count": 10,
   "id": "55472f4c",
   "metadata": {},
   "outputs": [
    {
     "data": {
      "text/plain": [
       "(5573,)"
      ]
     },
     "execution_count": 10,
     "metadata": {},
     "output_type": "execute_result"
    }
   ],
   "source": [
    "labels.shape"
   ]
  },
  {
   "cell_type": "code",
   "execution_count": 11,
   "id": "becb099f",
   "metadata": {},
   "outputs": [
    {
     "data": {
      "text/plain": [
       "(5573, 42)"
      ]
     },
     "execution_count": 11,
     "metadata": {},
     "output_type": "execute_result"
    }
   ],
   "source": [
    "data.shape"
   ]
  },
  {
   "cell_type": "code",
   "execution_count": 12,
   "id": "da654a34",
   "metadata": {},
   "outputs": [],
   "source": [
    "x_train, x_test, y_train, y_test = train_test_split(data, labels, test_size=0.2, shuffle=True, stratify=labels)"
   ]
  },
  {
   "cell_type": "code",
   "execution_count": 13,
   "id": "fdaac23e",
   "metadata": {},
   "outputs": [],
   "source": [
    "model = RandomForestClassifier()"
   ]
  },
  {
   "cell_type": "code",
   "execution_count": 14,
   "id": "a31e7f22",
   "metadata": {},
   "outputs": [
    {
     "data": {
      "text/html": [
       "<style>#sk-container-id-1 {color: black;background-color: white;}#sk-container-id-1 pre{padding: 0;}#sk-container-id-1 div.sk-toggleable {background-color: white;}#sk-container-id-1 label.sk-toggleable__label {cursor: pointer;display: block;width: 100%;margin-bottom: 0;padding: 0.3em;box-sizing: border-box;text-align: center;}#sk-container-id-1 label.sk-toggleable__label-arrow:before {content: \"▸\";float: left;margin-right: 0.25em;color: #696969;}#sk-container-id-1 label.sk-toggleable__label-arrow:hover:before {color: black;}#sk-container-id-1 div.sk-estimator:hover label.sk-toggleable__label-arrow:before {color: black;}#sk-container-id-1 div.sk-toggleable__content {max-height: 0;max-width: 0;overflow: hidden;text-align: left;background-color: #f0f8ff;}#sk-container-id-1 div.sk-toggleable__content pre {margin: 0.2em;color: black;border-radius: 0.25em;background-color: #f0f8ff;}#sk-container-id-1 input.sk-toggleable__control:checked~div.sk-toggleable__content {max-height: 200px;max-width: 100%;overflow: auto;}#sk-container-id-1 input.sk-toggleable__control:checked~label.sk-toggleable__label-arrow:before {content: \"▾\";}#sk-container-id-1 div.sk-estimator input.sk-toggleable__control:checked~label.sk-toggleable__label {background-color: #d4ebff;}#sk-container-id-1 div.sk-label input.sk-toggleable__control:checked~label.sk-toggleable__label {background-color: #d4ebff;}#sk-container-id-1 input.sk-hidden--visually {border: 0;clip: rect(1px 1px 1px 1px);clip: rect(1px, 1px, 1px, 1px);height: 1px;margin: -1px;overflow: hidden;padding: 0;position: absolute;width: 1px;}#sk-container-id-1 div.sk-estimator {font-family: monospace;background-color: #f0f8ff;border: 1px dotted black;border-radius: 0.25em;box-sizing: border-box;margin-bottom: 0.5em;}#sk-container-id-1 div.sk-estimator:hover {background-color: #d4ebff;}#sk-container-id-1 div.sk-parallel-item::after {content: \"\";width: 100%;border-bottom: 1px solid gray;flex-grow: 1;}#sk-container-id-1 div.sk-label:hover label.sk-toggleable__label {background-color: #d4ebff;}#sk-container-id-1 div.sk-serial::before {content: \"\";position: absolute;border-left: 1px solid gray;box-sizing: border-box;top: 0;bottom: 0;left: 50%;z-index: 0;}#sk-container-id-1 div.sk-serial {display: flex;flex-direction: column;align-items: center;background-color: white;padding-right: 0.2em;padding-left: 0.2em;position: relative;}#sk-container-id-1 div.sk-item {position: relative;z-index: 1;}#sk-container-id-1 div.sk-parallel {display: flex;align-items: stretch;justify-content: center;background-color: white;position: relative;}#sk-container-id-1 div.sk-item::before, #sk-container-id-1 div.sk-parallel-item::before {content: \"\";position: absolute;border-left: 1px solid gray;box-sizing: border-box;top: 0;bottom: 0;left: 50%;z-index: -1;}#sk-container-id-1 div.sk-parallel-item {display: flex;flex-direction: column;z-index: 1;position: relative;background-color: white;}#sk-container-id-1 div.sk-parallel-item:first-child::after {align-self: flex-end;width: 50%;}#sk-container-id-1 div.sk-parallel-item:last-child::after {align-self: flex-start;width: 50%;}#sk-container-id-1 div.sk-parallel-item:only-child::after {width: 0;}#sk-container-id-1 div.sk-dashed-wrapped {border: 1px dashed gray;margin: 0 0.4em 0.5em 0.4em;box-sizing: border-box;padding-bottom: 0.4em;background-color: white;}#sk-container-id-1 div.sk-label label {font-family: monospace;font-weight: bold;display: inline-block;line-height: 1.2em;}#sk-container-id-1 div.sk-label-container {text-align: center;}#sk-container-id-1 div.sk-container {/* jupyter's `normalize.less` sets `[hidden] { display: none; }` but bootstrap.min.css set `[hidden] { display: none !important; }` so we also need the `!important` here to be able to override the default hidden behavior on the sphinx rendered scikit-learn.org. See: https://github.com/scikit-learn/scikit-learn/issues/21755 */display: inline-block !important;position: relative;}#sk-container-id-1 div.sk-text-repr-fallback {display: none;}</style><div id=\"sk-container-id-1\" class=\"sk-top-container\"><div class=\"sk-text-repr-fallback\"><pre>RandomForestClassifier()</pre><b>In a Jupyter environment, please rerun this cell to show the HTML representation or trust the notebook. <br />On GitHub, the HTML representation is unable to render, please try loading this page with nbviewer.org.</b></div><div class=\"sk-container\" hidden><div class=\"sk-item\"><div class=\"sk-estimator sk-toggleable\"><input class=\"sk-toggleable__control sk-hidden--visually\" id=\"sk-estimator-id-1\" type=\"checkbox\" checked><label for=\"sk-estimator-id-1\" class=\"sk-toggleable__label sk-toggleable__label-arrow\">RandomForestClassifier</label><div class=\"sk-toggleable__content\"><pre>RandomForestClassifier()</pre></div></div></div></div></div>"
      ],
      "text/plain": [
       "RandomForestClassifier()"
      ]
     },
     "execution_count": 14,
     "metadata": {},
     "output_type": "execute_result"
    }
   ],
   "source": [
    "model.fit(x_train, y_train)"
   ]
  },
  {
   "cell_type": "code",
   "execution_count": null,
   "id": "b9cde4bf",
   "metadata": {},
   "outputs": [],
   "source": []
  },
  {
   "cell_type": "code",
   "execution_count": null,
   "id": "b165b0a2",
   "metadata": {},
   "outputs": [],
   "source": []
  },
  {
   "cell_type": "code",
   "execution_count": 15,
   "id": "a01affd5",
   "metadata": {},
   "outputs": [
    {
     "name": "stdout",
     "output_type": "stream",
     "text": [
      "accuracy :100.0\n"
     ]
    }
   ],
   "source": [
    "y_predict = model.predict(x_test)\n",
    "\n",
    "score = accuracy_score(y_predict, y_test)\n",
    "\n",
    "print(f'accuracy :{score*100}')\n",
    "\n",
    "f = open(r'E:\\internships\\Arabice_Detection\\Model\\RFmodel.p', 'wb')\n",
    "pickle.dump({'model': model}, f)\n",
    "f.close()"
   ]
  },
  {
   "cell_type": "code",
   "execution_count": null,
   "id": "61a6d6ce",
   "metadata": {},
   "outputs": [],
   "source": []
  },
  {
   "cell_type": "code",
   "execution_count": 16,
   "id": "da1da316",
   "metadata": {},
   "outputs": [],
   "source": [
    "import numpy as np\n",
    "import pickle\n",
    "import tensorflow as tf\n",
    "from sklearn.model_selection import train_test_split\n",
    "from sklearn.preprocessing import StandardScaler, LabelEncoder\n"
   ]
  },
  {
   "cell_type": "code",
   "execution_count": 17,
   "id": "d2f1b085",
   "metadata": {},
   "outputs": [],
   "source": [
    "# Load the data from the pickle file\n",
    "data_dict = pickle.load(open(r'E:\\internships\\Arabice_Detection\\Data_processing\\data.pickle', 'rb'))\n"
   ]
  },
  {
   "cell_type": "code",
   "execution_count": 19,
   "id": "d5173f04",
   "metadata": {},
   "outputs": [],
   "source": [
    "new_data = []\n",
    "new_labels=[]\n",
    "\n",
    "for i , listed in enumerate(data_dict['data']):\n",
    "    lenth = len(listed)\n",
    "    if lenth == 42:\n",
    "        new_data.append(listed)\n",
    "        new_labels.append(data_dict['labels'][i])"
   ]
  },
  {
   "cell_type": "code",
   "execution_count": 22,
   "id": "87aef238",
   "metadata": {},
   "outputs": [],
   "source": [
    "\n",
    "# Convert data and labels to numpy arrays\n",
    "data = np.array(new_data, dtype=np.float32)\n",
    "labels = np.array(new_labels ,dtype = int)\n"
   ]
  },
  {
   "cell_type": "code",
   "execution_count": null,
   "id": "96d1601b",
   "metadata": {},
   "outputs": [],
   "source": []
  },
  {
   "cell_type": "code",
   "execution_count": 28,
   "id": "76662909",
   "metadata": {},
   "outputs": [
    {
     "data": {
      "text/plain": [
       "(5573, 42)"
      ]
     },
     "execution_count": 28,
     "metadata": {},
     "output_type": "execute_result"
    }
   ],
   "source": [
    "data.shape"
   ]
  },
  {
   "cell_type": "code",
   "execution_count": 29,
   "id": "76711806",
   "metadata": {},
   "outputs": [
    {
     "data": {
      "text/plain": [
       "(5573,)"
      ]
     },
     "execution_count": 29,
     "metadata": {},
     "output_type": "execute_result"
    }
   ],
   "source": [
    "labels.shape"
   ]
  },
  {
   "cell_type": "code",
   "execution_count": 30,
   "id": "3700cbe3",
   "metadata": {},
   "outputs": [
    {
     "data": {
      "text/plain": [
       "array([0, 0, 0, ..., 9, 9, 9], dtype=int64)"
      ]
     },
     "execution_count": 30,
     "metadata": {},
     "output_type": "execute_result"
    }
   ],
   "source": [
    "# Encode labels if they are strings\n",
    "label_encoder = LabelEncoder()\n",
    "labels_encod = label_encoder.fit_transform(labels)\n",
    "labels_encod"
   ]
  },
  {
   "cell_type": "code",
   "execution_count": 32,
   "id": "e86c4ee4",
   "metadata": {},
   "outputs": [],
   "source": [
    "\n",
    "# Split the data into training and testing sets\n",
    "X_train, X_test, y_train, y_test = train_test_split(data, labels_encod, test_size=0.2, random_state=42)"
   ]
  },
  {
   "cell_type": "code",
   "execution_count": 33,
   "id": "da69d11f",
   "metadata": {},
   "outputs": [
    {
     "data": {
      "text/plain": [
       "(4458, 42)"
      ]
     },
     "execution_count": 33,
     "metadata": {},
     "output_type": "execute_result"
    }
   ],
   "source": [
    "X_train.shape"
   ]
  },
  {
   "cell_type": "code",
   "execution_count": 34,
   "id": "c1f88172",
   "metadata": {},
   "outputs": [],
   "source": [
    "# Reshape data for CNN input (assuming 1D data, adjust if necessary)\n",
    "X_train = X_train.reshape(X_train.shape[0], X_train.shape[1], 1)\n",
    "X_test = X_test.reshape(X_test.shape[0], X_test.shape[1], 1)"
   ]
  },
  {
   "cell_type": "code",
   "execution_count": 41,
   "id": "b2cd1a6c",
   "metadata": {},
   "outputs": [
    {
     "data": {
      "text/plain": [
       "(4458, 42, 1)"
      ]
     },
     "execution_count": 41,
     "metadata": {},
     "output_type": "execute_result"
    }
   ],
   "source": [
    "X_train.shape"
   ]
  },
  {
   "cell_type": "code",
   "execution_count": 36,
   "id": "01bc7679",
   "metadata": {},
   "outputs": [],
   "source": [
    "\n",
    "# Build the CNN model with 5 layers and dropout\n",
    "model2 = tf.keras.Sequential([\n",
    "    tf.keras.layers.Conv1D(256, kernel_size=3, activation='relu', input_shape=(X_train.shape[1], 1)),\n",
    "    tf.keras.layers.MaxPooling1D(pool_size=2),\n",
    "    tf.keras.layers.Conv1D(128, kernel_size=3, activation='relu'),\n",
    "    tf.keras.layers.MaxPooling1D(pool_size=2),\n",
    "    tf.keras.layers.Conv1D(64, kernel_size=3, activation='relu'),\n",
    "    tf.keras.layers.MaxPooling1D(pool_size=2),\n",
    "    tf.keras.layers.Flatten(),\n",
    "    tf.keras.layers.Dense(32, activation='relu'),\n",
    "    tf.keras.layers.Dropout(0.5),  # Add dropout for regularization\n",
    "    tf.keras.layers.Dense(28, activation='softmax')  # Adjust the number of nodes based on the number of classes\n",
    "])\n"
   ]
  },
  {
   "cell_type": "code",
   "execution_count": null,
   "id": "9ae435ad",
   "metadata": {},
   "outputs": [],
   "source": []
  },
  {
   "cell_type": "code",
   "execution_count": 37,
   "id": "f2d6bb8a",
   "metadata": {},
   "outputs": [
    {
     "name": "stdout",
     "output_type": "stream",
     "text": [
      "Epoch 1/50\n",
      "112/112 [==============================] - 4s 18ms/step - loss: 3.1524 - accuracy: 0.0788 - val_loss: 2.4557 - val_accuracy: 0.2791\n",
      "Epoch 2/50\n",
      "112/112 [==============================] - 2s 15ms/step - loss: 2.0073 - accuracy: 0.3584 - val_loss: 0.8326 - val_accuracy: 0.8901\n",
      "Epoch 3/50\n",
      "112/112 [==============================] - 2s 15ms/step - loss: 1.2200 - accuracy: 0.5726 - val_loss: 0.2891 - val_accuracy: 0.9697\n",
      "Epoch 4/50\n",
      "112/112 [==============================] - 2s 15ms/step - loss: 0.8085 - accuracy: 0.7126 - val_loss: 0.1354 - val_accuracy: 0.9821\n",
      "Epoch 5/50\n",
      "112/112 [==============================] - 2s 15ms/step - loss: 0.6220 - accuracy: 0.7664 - val_loss: 0.0851 - val_accuracy: 0.9899\n",
      "Epoch 6/50\n",
      "112/112 [==============================] - 2s 16ms/step - loss: 0.5395 - accuracy: 0.7995 - val_loss: 0.0754 - val_accuracy: 0.9978\n",
      "Epoch 7/50\n",
      "112/112 [==============================] - 2s 15ms/step - loss: 0.4779 - accuracy: 0.8174 - val_loss: 0.0543 - val_accuracy: 0.9832\n",
      "Epoch 8/50\n",
      "112/112 [==============================] - 2s 15ms/step - loss: 0.4723 - accuracy: 0.8225 - val_loss: 0.0517 - val_accuracy: 0.9989\n",
      "Epoch 9/50\n",
      "112/112 [==============================] - 2s 15ms/step - loss: 0.4068 - accuracy: 0.8508 - val_loss: 0.0292 - val_accuracy: 1.0000\n",
      "Epoch 10/50\n",
      "112/112 [==============================] - 2s 15ms/step - loss: 0.3672 - accuracy: 0.8629 - val_loss: 0.0318 - val_accuracy: 0.9899\n",
      "Epoch 11/50\n",
      "112/112 [==============================] - 2s 15ms/step - loss: 0.3532 - accuracy: 0.8640 - val_loss: 0.0134 - val_accuracy: 1.0000\n",
      "Epoch 12/50\n",
      "112/112 [==============================] - 2s 15ms/step - loss: 0.3306 - accuracy: 0.8741 - val_loss: 0.0160 - val_accuracy: 1.0000\n",
      "Epoch 13/50\n",
      "112/112 [==============================] - 2s 15ms/step - loss: 0.3137 - accuracy: 0.8797 - val_loss: 0.0144 - val_accuracy: 0.9978\n",
      "Epoch 14/50\n",
      "112/112 [==============================] - 2s 15ms/step - loss: 0.2919 - accuracy: 0.8842 - val_loss: 0.0026 - val_accuracy: 1.0000\n",
      "Epoch 15/50\n",
      "112/112 [==============================] - 2s 15ms/step - loss: 0.3147 - accuracy: 0.8744 - val_loss: 0.0113 - val_accuracy: 1.0000\n",
      "Epoch 16/50\n",
      "112/112 [==============================] - 2s 15ms/step - loss: 0.2750 - accuracy: 0.8932 - val_loss: 0.0066 - val_accuracy: 1.0000\n",
      "Epoch 17/50\n",
      "112/112 [==============================] - 2s 14ms/step - loss: 0.2764 - accuracy: 0.8934 - val_loss: 0.0035 - val_accuracy: 1.0000\n",
      "Epoch 18/50\n",
      "112/112 [==============================] - 2s 14ms/step - loss: 0.2744 - accuracy: 0.8918 - val_loss: 0.0040 - val_accuracy: 1.0000\n",
      "Epoch 19/50\n",
      "112/112 [==============================] - 2s 15ms/step - loss: 0.2781 - accuracy: 0.8887 - val_loss: 0.0044 - val_accuracy: 1.0000\n",
      "Epoch 20/50\n",
      "112/112 [==============================] - 2s 15ms/step - loss: 0.2629 - accuracy: 0.8940 - val_loss: 0.0079 - val_accuracy: 1.0000\n",
      "Epoch 21/50\n",
      "112/112 [==============================] - 2s 15ms/step - loss: 0.2446 - accuracy: 0.9044 - val_loss: 0.0071 - val_accuracy: 0.9989\n",
      "Epoch 22/50\n",
      "112/112 [==============================] - 2s 15ms/step - loss: 0.2416 - accuracy: 0.9019 - val_loss: 0.0045 - val_accuracy: 1.0000\n",
      "Epoch 23/50\n",
      "112/112 [==============================] - 2s 15ms/step - loss: 0.2192 - accuracy: 0.9122 - val_loss: 0.0010 - val_accuracy: 1.0000\n",
      "Epoch 24/50\n",
      "112/112 [==============================] - 2s 15ms/step - loss: 0.2430 - accuracy: 0.8974 - val_loss: 9.5075e-04 - val_accuracy: 1.0000\n",
      "Epoch 25/50\n",
      "112/112 [==============================] - 2s 15ms/step - loss: 0.2313 - accuracy: 0.9061 - val_loss: 0.0017 - val_accuracy: 1.0000\n",
      "Epoch 26/50\n",
      "112/112 [==============================] - 2s 15ms/step - loss: 0.2078 - accuracy: 0.9111 - val_loss: 0.0026 - val_accuracy: 1.0000\n",
      "Epoch 27/50\n",
      "112/112 [==============================] - 2s 15ms/step - loss: 0.2320 - accuracy: 0.9097 - val_loss: 5.6731e-04 - val_accuracy: 1.0000\n",
      "Epoch 28/50\n",
      "112/112 [==============================] - 2s 15ms/step - loss: 0.2651 - accuracy: 0.8881 - val_loss: 0.0061 - val_accuracy: 1.0000\n",
      "Epoch 29/50\n",
      "112/112 [==============================] - 2s 15ms/step - loss: 0.2173 - accuracy: 0.9083 - val_loss: 7.8050e-04 - val_accuracy: 1.0000\n",
      "Epoch 30/50\n",
      "112/112 [==============================] - 2s 15ms/step - loss: 0.2118 - accuracy: 0.9111 - val_loss: 5.2653e-04 - val_accuracy: 1.0000\n",
      "Epoch 31/50\n",
      "112/112 [==============================] - 2s 15ms/step - loss: 0.2468 - accuracy: 0.8990 - val_loss: 0.0011 - val_accuracy: 1.0000\n",
      "Epoch 32/50\n",
      "112/112 [==============================] - 2s 15ms/step - loss: 0.2347 - accuracy: 0.9035 - val_loss: 0.0027 - val_accuracy: 1.0000\n",
      "Epoch 33/50\n",
      "112/112 [==============================] - 2s 15ms/step - loss: 0.2430 - accuracy: 0.9016 - val_loss: 8.3645e-04 - val_accuracy: 1.0000\n",
      "Epoch 34/50\n",
      "112/112 [==============================] - 2s 15ms/step - loss: 0.2145 - accuracy: 0.9148 - val_loss: 0.0015 - val_accuracy: 1.0000\n",
      "Epoch 35/50\n",
      "112/112 [==============================] - 2s 15ms/step - loss: 0.1963 - accuracy: 0.9167 - val_loss: 9.3039e-04 - val_accuracy: 1.0000\n",
      "Epoch 36/50\n",
      "112/112 [==============================] - 2s 15ms/step - loss: 0.2287 - accuracy: 0.9047 - val_loss: 0.0017 - val_accuracy: 1.0000\n",
      "Epoch 37/50\n",
      "112/112 [==============================] - 2s 16ms/step - loss: 0.2136 - accuracy: 0.9142 - val_loss: 1.6414e-04 - val_accuracy: 1.0000\n",
      "Epoch 38/50\n",
      "112/112 [==============================] - 2s 17ms/step - loss: 0.2360 - accuracy: 0.9041 - val_loss: 0.0025 - val_accuracy: 1.0000\n",
      "Epoch 39/50\n",
      "112/112 [==============================] - 2s 16ms/step - loss: 0.2112 - accuracy: 0.9122 - val_loss: 9.1526e-04 - val_accuracy: 1.0000\n",
      "Epoch 40/50\n",
      "112/112 [==============================] - 2s 16ms/step - loss: 0.1979 - accuracy: 0.9237 - val_loss: 8.3485e-04 - val_accuracy: 1.0000\n",
      "Epoch 41/50\n",
      "112/112 [==============================] - 2s 16ms/step - loss: 0.1826 - accuracy: 0.9279 - val_loss: 2.4087e-04 - val_accuracy: 1.0000\n",
      "Epoch 42/50\n",
      "112/112 [==============================] - 2s 16ms/step - loss: 0.2328 - accuracy: 0.9111 - val_loss: 0.0049 - val_accuracy: 1.0000\n",
      "Epoch 43/50\n",
      "112/112 [==============================] - 2s 16ms/step - loss: 0.2258 - accuracy: 0.9100 - val_loss: 0.0016 - val_accuracy: 1.0000\n",
      "Epoch 44/50\n",
      "112/112 [==============================] - 2s 16ms/step - loss: 0.2136 - accuracy: 0.9184 - val_loss: 0.0011 - val_accuracy: 1.0000\n",
      "Epoch 45/50\n",
      "112/112 [==============================] - 2s 16ms/step - loss: 0.2161 - accuracy: 0.9139 - val_loss: 5.4163e-04 - val_accuracy: 1.0000\n",
      "Epoch 46/50\n",
      "112/112 [==============================] - 2s 16ms/step - loss: 0.2217 - accuracy: 0.9131 - val_loss: 7.0346e-04 - val_accuracy: 1.0000\n",
      "Epoch 47/50\n",
      "112/112 [==============================] - 2s 16ms/step - loss: 0.2097 - accuracy: 0.9170 - val_loss: 2.5713e-04 - val_accuracy: 1.0000\n",
      "Epoch 48/50\n",
      "112/112 [==============================] - 2s 15ms/step - loss: 0.2120 - accuracy: 0.9089 - val_loss: 2.6888e-04 - val_accuracy: 1.0000\n",
      "Epoch 49/50\n",
      "112/112 [==============================] - 2s 15ms/step - loss: 0.2094 - accuracy: 0.9148 - val_loss: 6.3165e-04 - val_accuracy: 1.0000\n",
      "Epoch 50/50\n",
      "112/112 [==============================] - 2s 15ms/step - loss: 0.1897 - accuracy: 0.9232 - val_loss: 5.6914e-05 - val_accuracy: 1.0000\n"
     ]
    },
    {
     "data": {
      "text/plain": [
       "<keras.src.callbacks.History at 0x1fd72cee290>"
      ]
     },
     "execution_count": 37,
     "metadata": {},
     "output_type": "execute_result"
    }
   ],
   "source": [
    "# Compile the model\n",
    "model2.compile(optimizer='adam',\n",
    "              loss='sparse_categorical_crossentropy',\n",
    "              metrics=['accuracy'])\n",
    "\n",
    "# Train the model\n",
    "model2.fit(X_train, y_train, epochs=50, batch_size=32, validation_split=0.2)\n"
   ]
  },
  {
   "cell_type": "code",
   "execution_count": 39,
   "id": "82bdadaa",
   "metadata": {},
   "outputs": [
    {
     "name": "stdout",
     "output_type": "stream",
     "text": [
      "35/35 [==============================] - 0s 5ms/step - loss: 5.1763e-05 - accuracy: 1.0000\n",
      "Test accuracy: 1.0\n"
     ]
    }
   ],
   "source": [
    "# Evaluate the model on the test set\n",
    "test_loss, test_acc = model2.evaluate(X_test, y_test)\n",
    "print(f'Test accuracy: {test_acc}')\n"
   ]
  },
  {
   "cell_type": "code",
   "execution_count": 40,
   "id": "ba34c92f",
   "metadata": {},
   "outputs": [
    {
     "name": "stdout",
     "output_type": "stream",
     "text": [
      "INFO:tensorflow:Assets written to: E:\\internships\\Arabice_Detection\\Model\\model2\\assets\n"
     ]
    },
    {
     "name": "stderr",
     "output_type": "stream",
     "text": [
      "INFO:tensorflow:Assets written to: E:\\internships\\Arabice_Detection\\Model\\model2\\assets\n"
     ]
    }
   ],
   "source": [
    "model2.save(r'E:\\internships\\Arabice_Detection\\Model\\model2')\n"
   ]
  },
  {
   "cell_type": "code",
   "execution_count": null,
   "id": "24c81be6",
   "metadata": {},
   "outputs": [],
   "source": []
  },
  {
   "cell_type": "code",
   "execution_count": null,
   "id": "feb8fb49",
   "metadata": {},
   "outputs": [],
   "source": []
  },
  {
   "cell_type": "code",
   "execution_count": null,
   "id": "44308c76",
   "metadata": {},
   "outputs": [],
   "source": []
  },
  {
   "cell_type": "code",
   "execution_count": null,
   "id": "38aa6cc5",
   "metadata": {},
   "outputs": [],
   "source": []
  },
  {
   "cell_type": "code",
   "execution_count": null,
   "id": "570e0675",
   "metadata": {},
   "outputs": [],
   "source": []
  },
  {
   "cell_type": "code",
   "execution_count": null,
   "id": "b0d87775",
   "metadata": {},
   "outputs": [],
   "source": []
  },
  {
   "cell_type": "code",
   "execution_count": null,
   "id": "9dd37988",
   "metadata": {},
   "outputs": [],
   "source": []
  },
  {
   "cell_type": "code",
   "execution_count": null,
   "id": "f2e56e36",
   "metadata": {},
   "outputs": [],
   "source": []
  },
  {
   "cell_type": "code",
   "execution_count": null,
   "id": "7bc961dc",
   "metadata": {},
   "outputs": [],
   "source": []
  }
 ],
 "metadata": {
  "kernelspec": {
   "display_name": "Python 3 (ipykernel)",
   "language": "python",
   "name": "python3"
  },
  "language_info": {
   "codemirror_mode": {
    "name": "ipython",
    "version": 3
   },
   "file_extension": ".py",
   "mimetype": "text/x-python",
   "name": "python",
   "nbconvert_exporter": "python",
   "pygments_lexer": "ipython3",
   "version": "3.10.9"
  }
 },
 "nbformat": 4,
 "nbformat_minor": 5
}
