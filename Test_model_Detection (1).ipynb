{
 "cells": [
  {
   "cell_type": "code",
   "execution_count": 20,
   "id": "dc06f18c",
   "metadata": {},
   "outputs": [],
   "source": [
    "import pickle \n",
    "import cv2 \n",
    "import mediapipe as mp\n",
    "import numpy as np \n",
    "import matplotlib.pyplot as plt \n",
    "import time "
   ]
  },
  {
   "cell_type": "code",
   "execution_count": 2,
   "id": "aace77c5",
   "metadata": {},
   "outputs": [],
   "source": [
    "model_dict = pickle.load(open(r'E:\\internships\\Arabice_Detection\\Model\\RFmodel.p' , 'rb'))\n",
    "model = model_dict['model']"
   ]
  },
  {
   "cell_type": "code",
   "execution_count": null,
   "id": "ab5cf28f",
   "metadata": {},
   "outputs": [],
   "source": []
  },
  {
   "cell_type": "code",
   "execution_count": 32,
   "id": "860fc60d",
   "metadata": {},
   "outputs": [],
   "source": [
    "# labels_arabic =dict()\n",
    "\n",
    "# for i in range(28):\n",
    "#     val = input(f'inter:{i}')\n",
    "#     labels_arabic[i] = str(val)  "
   ]
  },
  {
   "cell_type": "code",
   "execution_count": 31,
   "id": "4bf2468c",
   "metadata": {},
   "outputs": [],
   "source": [
    "labels_arabic = {0: 'ا',1: 'ب',2: 'ت',3: 'ث',4: 'ج',5: 'ح',6: 'خ',7: 'د',8: 'ذ', 9: 'ر',10: 'ز',\n",
    " 11: 'س', 12: 'ش', 13: 'ص', 14: 'ض', 15: 'ط',16: 'ظ',17: 'ع',18: 'غ',19: 'ف',20: 'ق',21: 'ك',\n",
    "                 22: 'ل',23: 'م',24: 'ن',25: 'ه',26: 'و',27: 'ي'}\n"
   ]
  },
  {
   "cell_type": "code",
   "execution_count": 21,
   "id": "2b7e115d",
   "metadata": {},
   "outputs": [],
   "source": [
    "\n",
    "cap = cv2.VideoCapture(0)\n",
    "\n",
    "mp_hands = mp.solutions.hands\n",
    "mp_drawing = mp.solutions.drawing_utils\n",
    "mp_drawing_styles = mp.solutions.drawing_styles\n",
    "\n",
    "hands = mp_hands.Hands(static_image_mode=True, min_detection_confidence=0.3)\n",
    "\n",
    "\n",
    "final_value = []\n",
    "\n",
    "start_time  = time.time()\n",
    "duration    = 10\n",
    "\n",
    "\n",
    "while True :\n",
    "    \n",
    "\n",
    "    data_collection = []\n",
    "    \n",
    "    X_ = []\n",
    "    y_ = []\n",
    "    \n",
    "    ret , frame = cap.read()\n",
    "    H, W , _= frame.shape\n",
    "    \n",
    "    frame_rgb   = cv2.cvtColor(frame , cv2.COLOR_BGR2RGB)\n",
    "    result      = hands.process(frame_rgb)\n",
    "    if result.multi_hand_landmarks:\n",
    "        for hand_landmarks in result.multi_hand_landmarks :\n",
    "            mp_drawing.draw_landmarks(\n",
    "            \n",
    "                frame ,\n",
    "                hand_landmarks ,\n",
    "                mp_hands.HAND_CONNECTIONS , \n",
    "                mp_drawing_styles.get_default_hand_landmarks_style(),\n",
    "                mp_drawing_styles.get_default_hand_connections_style()\n",
    "                    \n",
    "            )\n",
    "            \n",
    "            \n",
    "        for hand_landmarks in result.multi_hand_landmarks:\n",
    "            for i in range(len(hand_landmarks.landmark)):\n",
    "                X = hand_landmarks.landmark[i].x\n",
    "                Y = hand_landmarks.landmark[i].y\n",
    "                \n",
    "                X_.append(X)\n",
    "                y_.append(Y)\n",
    "                data_collection.append(X- min(X_))\n",
    "                data_collection.append(Y - min(y_))\n",
    "        \n",
    "                \n",
    "        x1 = int(min(X_) * W) - 10\n",
    "        x2 = int(max(X_) * W) - 10\n",
    "        y1 = int(min(y_) * H) - 10\n",
    "        y2 = int(max(y_) * H) - 10\n",
    "               \n",
    "        prediction      = model.predict([np.array(data_collection)])\n",
    "        text_prediction = str(prediction)\n",
    "        final_value.append(int(prediction))\n",
    "        \n",
    "        if (time.time()-start_time) > duration:\n",
    "            break\n",
    "\n",
    "        cv2.rectangle(frame, (x1, y1), (x2, y2), (0, 0, 0), 4)\n",
    "        cv2.putText(frame, text_prediction, (x1, y1 - 10), cv2.FONT_HERSHEY_SIMPLEX, 1.3, (0, 0, 0), 3,\n",
    "                    cv2.LINE_AA)          \n",
    "    cv2.imshow('frame' ,frame)\n",
    "    \n",
    "    if cv2.waitKey(11)== ord('q'):\n",
    "        break\n",
    "cap.release()\n",
    "cv2.destroyAllWindows()\n",
    "\n",
    "\n",
    "            "
   ]
  },
  {
   "cell_type": "code",
   "execution_count": 23,
   "id": "22e56931",
   "metadata": {},
   "outputs": [
    {
     "name": "stdout",
     "output_type": "stream",
     "text": [
      "0\n"
     ]
    }
   ],
   "source": [
    "freq_dict = {}\n",
    "for i in(final_value):\n",
    "    if i in freq_dict.keys():\n",
    "        freq_dict[i]+=1 \n",
    "    else:\n",
    "        freq_dict[i] = 1\n",
    "print(max(freq_dict, key=freq_dict.get))\n",
    "final_out = max(freq_dict, key=freq_dict.get)\n",
    "print(f'هل تريد بعض الامثلة التي تبدأ بحرف {labels_arabic[final_out]}')"
   ]
  },
  {
   "cell_type": "code",
   "execution_count": null,
   "id": "42c647a8",
   "metadata": {},
   "outputs": [],
   "source": []
  },
  {
   "cell_type": "code",
   "execution_count": 26,
   "id": "24db1581",
   "metadata": {},
   "outputs": [],
   "source": [
    "import tensorflow as tf"
   ]
  },
  {
   "cell_type": "code",
   "execution_count": 27,
   "id": "e3883318",
   "metadata": {},
   "outputs": [],
   "source": [
    "model_path = r'E:\\internships\\Arabice_Detection\\Model\\model2'\n",
    "model2     = tf.keras.models.load_model(model_path)"
   ]
  },
  {
   "cell_type": "code",
   "execution_count": 4,
   "id": "b8e583ec",
   "metadata": {},
   "outputs": [],
   "source": [
    "# let's test model on one image \n",
    "\n",
    "\n",
    "image_path =  r'E:\\internships\\Arabice_Detection\\Data\\0\\0.jpg'\n",
    "\n",
    "\n",
    "mp_hands = mp.solutions.hands\n",
    "mp_drawing = mp.solutions.drawing_utils\n",
    "mp_drawing_styles = mp.solutions.drawing_styles\n",
    "\n",
    "hands = mp_hands.Hands(static_image_mode=True, min_detection_confidence=0.5)\n",
    "\n"
   ]
  },
  {
   "cell_type": "code",
   "execution_count": 5,
   "id": "e1d1157a",
   "metadata": {},
   "outputs": [],
   "source": [
    "x_ = []\n",
    "y_ = []\n",
    "data_aux = []\n",
    "img = cv2.imread(image_path)\n",
    "img_rgb = cv2.cvtColor(img, cv2.COLOR_BGR2RGB)\n",
    "\n",
    "results = hands.process(img_rgb)\n",
    "if results.multi_hand_landmarks:\n",
    "    for hand_landmarks in results.multi_hand_landmarks:\n",
    "        for i in range(len(hand_landmarks.landmark)):\n",
    "            x = hand_landmarks.landmark[i].x\n",
    "            y = hand_landmarks.landmark[i].y\n",
    "\n",
    "            x_.append(x)\n",
    "            y_.append(y)\n",
    "\n",
    "        for i in range(len(hand_landmarks.landmark)):\n",
    "            x = hand_landmarks.landmark[i].x\n",
    "            y = hand_landmarks.landmark[i].y\n",
    "            data_aux.append(x - min(x_))\n",
    "            data_aux.append(y - min(y_))"
   ]
  },
  {
   "cell_type": "code",
   "execution_count": 7,
   "id": "64361c40",
   "metadata": {},
   "outputs": [
    {
     "data": {
      "text/plain": [
       "42"
      ]
     },
     "execution_count": 7,
     "metadata": {},
     "output_type": "execute_result"
    }
   ],
   "source": [
    "len(data_aux)"
   ]
  },
  {
   "cell_type": "code",
   "execution_count": 9,
   "id": "6406bae3",
   "metadata": {},
   "outputs": [],
   "source": [
    "image_processing = np.array(data_aux , dtype = np.float32)\n"
   ]
  },
  {
   "cell_type": "code",
   "execution_count": 10,
   "id": "aa201476",
   "metadata": {},
   "outputs": [
    {
     "data": {
      "text/plain": [
       "(42,)"
      ]
     },
     "execution_count": 10,
     "metadata": {},
     "output_type": "execute_result"
    }
   ],
   "source": [
    "image_processing.shape"
   ]
  },
  {
   "cell_type": "code",
   "execution_count": 13,
   "id": "b1bb72a4",
   "metadata": {},
   "outputs": [],
   "source": [
    "img = image_processing.reshape(-1,image_processing.shape[0],1)\n"
   ]
  },
  {
   "cell_type": "code",
   "execution_count": 14,
   "id": "9eb3a167",
   "metadata": {},
   "outputs": [
    {
     "data": {
      "text/plain": [
       "(1, 42, 1)"
      ]
     },
     "execution_count": 14,
     "metadata": {},
     "output_type": "execute_result"
    }
   ],
   "source": [
    "img.shape"
   ]
  },
  {
   "cell_type": "code",
   "execution_count": 15,
   "id": "fa546ed7",
   "metadata": {},
   "outputs": [
    {
     "name": "stdout",
     "output_type": "stream",
     "text": [
      "1/1 [==============================] - 0s 246ms/step\n"
     ]
    }
   ],
   "source": [
    "prediction = model2.predict(img)"
   ]
  },
  {
   "cell_type": "code",
   "execution_count": 18,
   "id": "9c63a313",
   "metadata": {},
   "outputs": [
    {
     "data": {
      "text/plain": [
       "0"
      ]
     },
     "execution_count": 18,
     "metadata": {},
     "output_type": "execute_result"
    }
   ],
   "source": [
    "np.argmax(prediction)"
   ]
  },
  {
   "cell_type": "markdown",
   "id": "2a9afb22",
   "metadata": {},
   "source": [
    "# let's test our model live"
   ]
  },
  {
   "cell_type": "code",
   "execution_count": 28,
   "id": "a6dba74a",
   "metadata": {},
   "outputs": [
    {
     "name": "stdout",
     "output_type": "stream",
     "text": [
      "1/1 [==============================] - 1s 1s/step\n",
      "1/1 [==============================] - 0s 32ms/step\n",
      "1/1 [==============================] - 0s 20ms/step\n",
      "1/1 [==============================] - 0s 31ms/step\n",
      "1/1 [==============================] - 0s 33ms/step\n",
      "1/1 [==============================] - 0s 24ms/step\n",
      "1/1 [==============================] - 0s 31ms/step\n",
      "1/1 [==============================] - 0s 41ms/step\n",
      "1/1 [==============================] - 0s 21ms/step\n",
      "1/1 [==============================] - 0s 16ms/step\n",
      "1/1 [==============================] - 0s 20ms/step\n",
      "1/1 [==============================] - 0s 31ms/step\n",
      "1/1 [==============================] - 0s 24ms/step\n",
      "1/1 [==============================] - 0s 16ms/step\n",
      "1/1 [==============================] - 0s 40ms/step\n",
      "1/1 [==============================] - 0s 20ms/step\n",
      "1/1 [==============================] - 0s 24ms/step\n",
      "1/1 [==============================] - 0s 16ms/step\n",
      "1/1 [==============================] - 0s 17ms/step\n",
      "1/1 [==============================] - 0s 31ms/step\n",
      "1/1 [==============================] - 0s 29ms/step\n",
      "1/1 [==============================] - 0s 21ms/step\n",
      "1/1 [==============================] - 0s 31ms/step\n",
      "1/1 [==============================] - 0s 31ms/step\n",
      "1/1 [==============================] - 0s 31ms/step\n",
      "1/1 [==============================] - 0s 43ms/step\n",
      "1/1 [==============================] - 0s 36ms/step\n",
      "1/1 [==============================] - 0s 16ms/step\n",
      "1/1 [==============================] - 0s 77ms/step\n",
      "1/1 [==============================] - 0s 30ms/step\n",
      "1/1 [==============================] - 0s 32ms/step\n",
      "1/1 [==============================] - 0s 31ms/step\n",
      "1/1 [==============================] - 0s 19ms/step\n",
      "1/1 [==============================] - 0s 42ms/step\n"
     ]
    }
   ],
   "source": [
    "cap = cv2.VideoCapture(0)\n",
    "\n",
    "mp_hands = mp.solutions.hands\n",
    "mp_drawing = mp.solutions.drawing_utils\n",
    "mp_drawing_styles = mp.solutions.drawing_styles\n",
    "\n",
    "hands = mp_hands.Hands(static_image_mode=True, min_detection_confidence=0.5)\n",
    "\n",
    "final_values = []\n",
    "\n",
    "start_time = time.time()\n",
    "duration   = 10\n",
    "\n",
    "while True :\n",
    "    data_collection = []\n",
    "    \n",
    "    X_ = []\n",
    "    y_ = []\n",
    "    \n",
    "    ret , frame = cap.read()\n",
    "    H, W , _= frame.shape\n",
    "    \n",
    "    frame_rgb   = cv2.cvtColor(frame , cv2.COLOR_BGR2RGB)\n",
    "    result      = hands.process(frame_rgb)\n",
    "    if result.multi_hand_landmarks:\n",
    "        for hand_landmarks in result.multi_hand_landmarks :\n",
    "            mp_drawing.draw_landmarks(\n",
    "            \n",
    "                frame ,\n",
    "                hand_landmarks ,\n",
    "                mp_hands.HAND_CONNECTIONS , \n",
    "                mp_drawing_styles.get_default_hand_landmarks_style(),\n",
    "                mp_drawing_styles.get_default_hand_connections_style()\n",
    "                    \n",
    "            )\n",
    "            \n",
    "            \n",
    "        for hand_landmarks in result.multi_hand_landmarks:\n",
    "            for i in range(len(hand_landmarks.landmark)):\n",
    "                X = hand_landmarks.landmark[i].x\n",
    "                Y = hand_landmarks.landmark[i].y\n",
    "                \n",
    "\n",
    "                X_.append(X)\n",
    "                y_.append(Y)\n",
    "                data_collection.append(X - min(X_))\n",
    "                data_collection.append(Y - min(y_))\n",
    "        \n",
    "                \n",
    "        x1 = int(min(X_) * W) - 10\n",
    "        x2 = int(max(X_) * W) - 10\n",
    "        y1 = int(min(y_) * H) - 10\n",
    "        y2 = int(max(y_) * H) - 10\n",
    "        \n",
    "        \n",
    "                \n",
    "        data = np.array(data_collection , dtype = np.float32)\n",
    "        data = data.reshape(-1 , data.shape[0] ,1)\n",
    "        prediction      = model2.predict(data)\n",
    "        pred = np.argmax(prediction)\n",
    "        text_prediction = str(pred)\n",
    "        final_values.append(int(pred))\n",
    "        if (time.time() - start_time) > duration:\n",
    "            break\n",
    "\n",
    "        cv2.rectangle(frame, (x1, y1), (x2, y2), (0, 0, 0), 4)\n",
    "        cv2.putText(frame, text_prediction, (x1, y1 - 10), cv2.FONT_HERSHEY_SIMPLEX, 1.3, (0, 0, 0), 3,\n",
    "                    cv2.LINE_AA)          \n",
    "    cv2.imshow('frame' ,frame)\n",
    "    if cv2.waitKey(11)== ord('q'):\n",
    "        break\n",
    "cap.release()\n",
    "cv2.destroyAllWindows()\n",
    "\n",
    "\n"
   ]
  },
  {
   "cell_type": "code",
   "execution_count": 29,
   "id": "05069f12",
   "metadata": {},
   "outputs": [
    {
     "name": "stdout",
     "output_type": "stream",
     "text": [
      "0\n",
      "هل تريد بعض الامثلة التي تبدأ بحرف ا\n"
     ]
    }
   ],
   "source": [
    "freq_dict = {}\n",
    "for i in(final_values):\n",
    "    if i in freq_dict.keys():\n",
    "        freq_dict[i]+=1 \n",
    "    else:\n",
    "        freq_dict[i] = 1\n",
    "print(max(freq_dict, key=freq_dict.get))\n",
    "final_out = max(freq_dict, key=freq_dict.get)\n",
    "print(f'هل تريد بعض الامثلة التي تبدأ بحرف {labels_arabic[final_out]}')"
   ]
  },
  {
   "cell_type": "code",
   "execution_count": null,
   "id": "cfd5f27b",
   "metadata": {},
   "outputs": [],
   "source": []
  },
  {
   "cell_type": "code",
   "execution_count": null,
   "id": "93190523",
   "metadata": {},
   "outputs": [],
   "source": []
  },
  {
   "cell_type": "code",
   "execution_count": null,
   "id": "2b1abf9c",
   "metadata": {},
   "outputs": [],
   "source": []
  },
  {
   "cell_type": "code",
   "execution_count": null,
   "id": "b0d45511",
   "metadata": {},
   "outputs": [],
   "source": []
  },
  {
   "cell_type": "code",
   "execution_count": null,
   "id": "3dbbbed0",
   "metadata": {},
   "outputs": [],
   "source": []
  }
 ],
 "metadata": {
  "kernelspec": {
   "display_name": "Python 3 (ipykernel)",
   "language": "python",
   "name": "python3"
  },
  "language_info": {
   "codemirror_mode": {
    "name": "ipython",
    "version": 3
   },
   "file_extension": ".py",
   "mimetype": "text/x-python",
   "name": "python",
   "nbconvert_exporter": "python",
   "pygments_lexer": "ipython3",
   "version": "3.10.9"
  }
 },
 "nbformat": 4,
 "nbformat_minor": 5
}
