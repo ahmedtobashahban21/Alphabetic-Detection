{
 "cells": [
  {
   "cell_type": "code",
   "execution_count": 4,
   "id": "0c9b1640",
   "metadata": {},
   "outputs": [],
   "source": [
    "import cv2\n",
    "import os\n",
    "import numpy as np\n",
    "import matplotlib.pyplot as plt\n",
    "\n",
    "\n",
    "\n",
    "def enhance_image_quality(input_directory, output_directory):\n",
    "    # Ensure the output directory exists\n",
    "    if not os.path.exists(output_directory):\n",
    "        os.makedirs(output_directory)\n",
    "\n",
    "    # Loop through all image files in the input directory\n",
    "    for filename in os.listdir(input_directory):\n",
    "        if filename.endswith(\".jpg\") or filename.endswith(\".png\"):\n",
    "            # Read the image\n",
    "            img_path = os.path.join(input_directory, filename)\n",
    "            img = cv2.imread(img_path, cv2.IMREAD_GRAYSCALE)\n",
    "\n",
    "            # Apply histogram equalization\n",
    "            img_equalized = cv2.equalizeHist(img)\n",
    "\n",
    "            # Apply Gaussian blur for smoothing\n",
    "            img_blurred = cv2.GaussianBlur(img_equalized, (5, 5), 0)\n",
    "\n",
    "            # Display the original and enhanced images (optional)\n",
    "#             plt.figure(figsize=(10, 5))\n",
    "#             plt.subplot(1, 2, 1)\n",
    "#             plt.imshow(img, cmap='gray')\n",
    "#             plt.title('Original Image')\n",
    "\n",
    "#             plt.subplot(1, 2, 2)\n",
    "#             plt.imshow(img_blurred, cmap='gray')\n",
    "#             plt.title('Enhanced Image')\n",
    "#             plt.show()\n",
    "\n",
    "            # Save the enhanced image to the output directory\n",
    "            output_path = os.path.join(output_directory, f\"enhanced_{filename}\")\n",
    "            cv2.imwrite(output_path, img_blurred)\n",
    "\n",
    "# Example usage: Replace 'input_images' and 'output_images' with your actual directories\n",
    "\n",
    "\n",
    "\n",
    "input_dir = r'E:\\internships\\AMIT Hackathon\\Data\\0'\n",
    "out_dir   = r'E:\\internships\\AMIT Hackathon\\Data_enhancement'\n",
    "enhance_image_quality(input_dir , out_dir)\n"
   ]
  },
  {
   "cell_type": "code",
   "execution_count": null,
   "id": "fb2e30e1",
   "metadata": {},
   "outputs": [],
   "source": []
  },
  {
   "cell_type": "code",
   "execution_count": null,
   "id": "8551db27",
   "metadata": {},
   "outputs": [],
   "source": []
  }
 ],
 "metadata": {
  "kernelspec": {
   "display_name": "Python 3 (ipykernel)",
   "language": "python",
   "name": "python3"
  },
  "language_info": {
   "codemirror_mode": {
    "name": "ipython",
    "version": 3
   },
   "file_extension": ".py",
   "mimetype": "text/x-python",
   "name": "python",
   "nbconvert_exporter": "python",
   "pygments_lexer": "ipython3",
   "version": "3.10.9"
  }
 },
 "nbformat": 4,
 "nbformat_minor": 5
}
